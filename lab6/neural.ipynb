{
 "cells": [
  {
   "cell_type": "code",
   "execution_count": 6,
   "metadata": {},
   "outputs": [
    {
     "name": "stdout",
     "output_type": "stream",
     "text": [
      "MLPClassifier - AND Gate Test Results:\n",
      "Input: [0 0], Predicted output: 0\n",
      "Input: [0 1], Predicted output: 0\n",
      "Input: [1 0], Predicted output: 0\n",
      "Input: [1 1], Predicted output: 1\n",
      "\n",
      "MLPClassifier - XOR Gate Test Results:\n",
      "Input: [0 0], Predicted output: 0\n",
      "Input: [0 1], Predicted output: 1\n",
      "Input: [1 0], Predicted output: 0\n",
      "Input: [1 1], Predicted output: 0\n"
     ]
    }
   ],
   "source": [
    "from sklearn.neural_network import MLPClassifier\n",
    "import numpy as np\n",
    "\n",
    "# Define input data and target labels for AND gate\n",
    "X_and = np.array([[0, 0], [0, 1], [1, 0], [1, 1]])\n",
    "y_and = np.array([0, 0, 0, 1])\n",
    "\n",
    "# Define input data and target labels for XOR gate\n",
    "X_xor = np.array([[0, 0], [0, 1], [1, 0], [1, 1]])\n",
    "y_xor = np.array([0, 1, 1, 0])\n",
    "\n",
    "# Initialize and train the MLP classifier for AND gate\n",
    "mlp_and = MLPClassifier(hidden_layer_sizes=(), activation='logistic', solver='sgd', learning_rate_init=0.05,\n",
    "                        max_iter=1000, tol=1e-3, random_state=42)\n",
    "mlp_and.fit(X_and, y_and)\n",
    "\n",
    "# Initialize and train the MLP classifier for XOR gate\n",
    "mlp_xor = MLPClassifier(hidden_layer_sizes=(), activation='logistic', solver='sgd', learning_rate_init=0.05,\n",
    "                        max_iter=1000, tol=1e-3, random_state=42)\n",
    "mlp_xor.fit(X_xor, y_xor)\n",
    "\n",
    "# Test the trained classifier for AND gate\n",
    "print(\"MLPClassifier - AND Gate Test Results:\")\n",
    "for input_vector in X_and:\n",
    "    output = mlp_and.predict([input_vector])\n",
    "    print(f\"Input: {input_vector}, Predicted output: {output[0]}\")\n",
    "\n",
    "# Test the trained classifier for XOR gate\n",
    "print(\"\\nMLPClassifier - XOR Gate Test Results:\")\n",
    "for input_vector in X_xor:\n",
    "    output = mlp_xor.predict([input_vector])\n",
    "    print(f\"Input: {input_vector}, Predicted output: {output[0]}\")\n"
   ]
  },
  {
   "cell_type": "code",
   "execution_count": 7,
   "metadata": {},
   "outputs": [
    {
     "name": "stdout",
     "output_type": "stream",
     "text": [
      "Predicted output for AND gate:\n",
      "[[0.29631824]\n",
      " [0.27968751]\n",
      " [0.28742994]\n",
      " [0.27264214]]\n"
     ]
    }
   ],
   "source": [
    "import numpy as np\n",
    "\n",
    "# Define the AND gate truth table\n",
    "X = np.array([[0, 0], [0, 1], [1, 0], [1, 1]])\n",
    "y = np.array([[0], [0], [0], [1]])\n",
    "\n",
    "# Initialize weights randomly\n",
    "np.random.seed(42)\n",
    "V = np.random.rand(2, 2)  # Weights connecting input to hidden layer\n",
    "W = np.random.rand(2, 1)  # Weights connecting hidden layer to output\n",
    "\n",
    "# Sigmoid activation function\n",
    "def sigmoid(x):\n",
    "    return 1 / (1 + np.exp(-x))\n",
    "\n",
    "# Derivative of sigmoid function\n",
    "def sigmoid_derivative(x):\n",
    "    return x * (1 - x)\n",
    "\n",
    "# Training loop\n",
    "learning_rate = 0.05\n",
    "convergence_error = 0.002\n",
    "max_iterations = 1000\n",
    "\n",
    "for iteration in range(max_iterations):\n",
    "    # Forward pass\n",
    "    hidden_layer_input = np.dot(X, V)\n",
    "    hidden_layer_output = sigmoid(hidden_layer_input)\n",
    "    output_layer_input = np.dot(hidden_layer_output, W)\n",
    "    predicted_output = sigmoid(output_layer_input)\n",
    "\n",
    "    # Calculate error\n",
    "    error = y - predicted_output\n",
    "\n",
    "    # Backward pass\n",
    "    d_predicted_output = error * sigmoid_derivative(predicted_output)\n",
    "    error_hidden_layer = d_predicted_output.dot(W.T)\n",
    "    d_hidden_layer = error_hidden_layer * sigmoid_derivative(hidden_layer_output)\n",
    "\n",
    "    # Update weights\n",
    "    W += hidden_layer_output.T.dot(d_predicted_output) * learning_rate\n",
    "    V += X.T.dot(d_hidden_layer) * learning_rate\n",
    "\n",
    "    # Check for convergence\n",
    "    if np.max(np.abs(error)) <= convergence_error:\n",
    "        print(f\"Converged after {iteration + 1} iterations.\")\n",
    "        break\n",
    "\n",
    "# Test the trained network\n",
    "test_input = np.array([[0, 0], [0, 1], [1, 0], [1, 1]])\n",
    "test_output = sigmoid(np.dot(sigmoid(np.dot(test_input, V)), W))\n",
    "print(\"Predicted output for AND gate:\")\n",
    "print(test_output)"
   ]
  },
  {
   "cell_type": "code",
   "execution_count": 8,
   "metadata": {},
   "outputs": [
    {
     "name": "stdout",
     "output_type": "stream",
     "text": [
      "AND gate with two output nodes converged in 1000 epochs\n"
     ]
    },
    {
     "data": {
      "image/png": "[encoded data removed]",
      "text/plain": [
       "<Figure size 640x480 with 1 Axes>"
      ]
     },
     "metadata": {},
     "output_type": "display_data"
    }
   ],
   "source": [
    "import numpy as np\n",
    "import matplotlib.pyplot as plt\n",
    "\n",
    "# Step activation function for binary output\n",
    "def step_activation(x):\n",
    "    return np.where(x >= 0, 1, 0)\n",
    "\n",
    "# Function to train the perceptron with two output nodes\n",
    "def train_perceptron_two_outputs(X, y, initial_weights, learning_rate, max_iterations=1000, convergence_error=0.002):\n",
    "    weights = initial_weights\n",
    "    error_values = []\n",
    "\n",
    "    for epoch in range(max_iterations):\n",
    "        errors = 0\n",
    "        for i in range(X.shape[0]):\n",
    "            y_pred = step_activation(np.dot(X[i], weights))\n",
    "            error = y[i] - y_pred\n",
    "            weights += learning_rate * np.outer(X[i], error)\n",
    "            errors += np.sum(error ** 2)\n",
    "        error_values.append(errors)\n",
    "        if errors <= convergence_error:\n",
    "            break\n",
    "\n",
    "    return weights, error_values, epoch + 1\n",
    "\n",
    "# Data for AND gate with two output nodes\n",
    "X_and = np.array([[0, 0],\n",
    "                  [0, 1],\n",
    "                  [1, 0],\n",
    "                  [1, 1]])\n",
    "\n",
    "# Two output nodes: [1, 0] for 0 and [0, 1] for 1\n",
    "y_and = np.array([[1, 0],\n",
    "                  [1, 0],\n",
    "                  [1, 0],\n",
    "                  [0, 1]])\n",
    "\n",
    "# Initial weights for AND gate with two output nodes\n",
    "initial_weights_and = np.array([[10, 0.2],\n",
    "                                 [0.2, -0.75]])\n",
    "\n",
    "# Training the perceptron for AND gate with two output nodes\n",
    "learned_weights_and, error_values_and, epochs_and = train_perceptron_two_outputs(X_and, y_and, initial_weights_and, learning_rate=0.05)\n",
    "\n",
    "print(f\"AND gate with two output nodes converged in {epochs_and} epochs\")\n",
    "\n",
    "# Plotting epochs vs error for AND gate with two output nodes\n",
    "plt.plot(range(1, len(error_values_and) + 1), error_values_and)\n",
    "plt.xlabel('Epochs')\n",
    "plt.ylabel('Error')\n",
    "plt.title('Error Convergence for AND Gate with Two Output Nodes')\n",
    "plt.show()"
   ]
  }
 ],
 "metadata": {
  "kernelspec": {
   "display_name": "Python 3",
   "language": "python",
   "name": "python3"
  },
  "language_info": {
   "codemirror_mode": {
    "name": "ipython",
    "version": 3
   },
   "file_extension": ".py",
   "mimetype": "text/x-python",
   "name": "python",
   "nbconvert_exporter": "python",
   "pygments_lexer": "ipython3",
   "version": "3.12.1"
  }
 },
 "nbformat": 4,
 "nbformat_minor": 2
}
